{
 "cells": [
  {
   "cell_type": "code",
   "execution_count": 1,
   "metadata": {},
   "outputs": [],
   "source": [
    "import pandas as pd\n",
    "import numpy as np\n",
    "import lightgbm\n",
    "#from sklearn.model_selection import train_test_split"
   ]
  },
  {
   "cell_type": "code",
   "execution_count": 2,
   "metadata": {},
   "outputs": [],
   "source": [
    "train_csv = pd.read_csv('C:/Users/bruce/Desktop/DMT_Assignment2/training_set_VU_DM.csv')"
   ]
  },
  {
   "cell_type": "code",
   "execution_count": 3,
   "metadata": {},
   "outputs": [],
   "source": [
    "y= np.where((train_csv['booking_bool'] == 1), 2, np.where((train_csv['click_bool'] ==1) & (train_csv['booking_bool'] == 0), 1, 0))\n",
    "train_csv[\"date_time\"] = pd.to_datetime(train_csv[\"date_time\"])\n",
    "train_csv[\"day\"] = train_csv[\"date_time\"].dt.day\n",
    "train_csv[\"month\"] = train_csv[\"date_time\"].dt.month\n",
    "train_csv.drop(labels=[\"date_time\",\"click_bool\", \"booking_bool\", \"gross_bookings_usd\"], axis=1, inplace=True)\n",
    "ignore_columns = [\"visitor_hist_adr_usd\", \"visitor_hist_starrating\", \"srch_query_affinity_score\"]\n",
    "missing_perc = train_csv.isnull().mean() * 100\n",
    "keep_cols = missing_perc[missing_perc <= 90]  # Ignore columns with more than 90% missing data\n",
    "keep_cols = keep_cols.index.union(ignore_columns)  # Add the specified columns to the keep list\n",
    "pre_feature = train_csv[keep_cols]\n"
   ]
  },
  {
   "cell_type": "code",
   "execution_count": 4,
   "metadata": {},
   "outputs": [
    {
     "name": "stderr",
     "output_type": "stream",
     "text": [
      "C:\\Users\\bruce\\AppData\\Local\\Temp\\ipykernel_17440\\3638886222.py:15: SettingWithCopyWarning: \n",
      "A value is trying to be set on a copy of a slice from a DataFrame.\n",
      "Try using .loc[row_indexer,col_indexer] = value instead\n",
      "\n",
      "See the caveats in the documentation: https://pandas.pydata.org/pandas-docs/stable/user_guide/indexing.html#returning-a-view-versus-a-copy\n",
      "  pre_feature[competitor_columns] = pre_feature[competitor_columns].fillna(0)\n",
      "C:\\Users\\bruce\\AppData\\Local\\Temp\\ipykernel_17440\\3638886222.py:16: SettingWithCopyWarning: \n",
      "A value is trying to be set on a copy of a slice from a DataFrame\n",
      "\n",
      "See the caveats in the documentation: https://pandas.pydata.org/pandas-docs/stable/user_guide/indexing.html#returning-a-view-versus-a-copy\n",
      "  pre_feature[\"prop_location_score2\"].fillna(pre_feature[\"prop_location_score2\"].min(), inplace=True)\n",
      "C:\\Users\\bruce\\AppData\\Local\\Temp\\ipykernel_17440\\3638886222.py:17: SettingWithCopyWarning: \n",
      "A value is trying to be set on a copy of a slice from a DataFrame\n",
      "\n",
      "See the caveats in the documentation: https://pandas.pydata.org/pandas-docs/stable/user_guide/indexing.html#returning-a-view-versus-a-copy\n",
      "  pre_feature[\"prop_review_score\"].fillna(pre_feature[\"prop_review_score\"].min(), inplace=True)\n"
     ]
    }
   ],
   "source": [
    "competitor_columns = [\n",
    "    \"comp2_inv\",\n",
    "    \"comp2_rate\",\n",
    "    \"comp2_rate_percent_diff\",\n",
    "    \"comp3_inv\",\n",
    "    \"comp3_rate\",\n",
    "    \"comp5_inv\",\n",
    "    \"comp5_rate\",\n",
    "    \"comp5_rate_percent_diff\",\n",
    "    \"comp8_inv\",\n",
    "    \"comp8_rate\",\n",
    "    \"comp8_rate_percent_diff\",\n",
    "]\n",
    "\n",
    "pre_feature[competitor_columns] = pre_feature[competitor_columns].fillna(0)\n",
    "pre_feature[\"prop_location_score2\"].fillna(pre_feature[\"prop_location_score2\"].min(), inplace=True)\n",
    "pre_feature[\"prop_review_score\"].fillna(pre_feature[\"prop_review_score\"].min(), inplace=True)\n"
   ]
  },
  {
   "cell_type": "code",
   "execution_count": 5,
   "metadata": {},
   "outputs": [
    {
     "name": "stderr",
     "output_type": "stream",
     "text": [
      "C:\\Users\\bruce\\AppData\\Local\\Temp\\ipykernel_17440\\3624791867.py:3: SettingWithCopyWarning: \n",
      "A value is trying to be set on a copy of a slice from a DataFrame.\n",
      "Try using .loc[row_indexer,col_indexer] = value instead\n",
      "\n",
      "See the caveats in the documentation: https://pandas.pydata.org/pandas-docs/stable/user_guide/indexing.html#returning-a-view-versus-a-copy\n",
      "  pre_feature[\"normalized_price_usd_per_prop_id\"] = (pre_feature[\"price_usd\"] - mean_prop_usd) / std_prop_usd\n",
      "C:\\Users\\bruce\\AppData\\Local\\Temp\\ipykernel_17440\\3624791867.py:7: SettingWithCopyWarning: \n",
      "A value is trying to be set on a copy of a slice from a DataFrame.\n",
      "Try using .loc[row_indexer,col_indexer] = value instead\n",
      "\n",
      "See the caveats in the documentation: https://pandas.pydata.org/pandas-docs/stable/user_guide/indexing.html#returning-a-view-versus-a-copy\n",
      "  pre_feature[\"normalized_price_usd_per_srch_id\"] = (pre_feature[\"price_usd\"] - mean_srch_usd) / std_srch_usd\n",
      "C:\\Users\\bruce\\AppData\\Local\\Temp\\ipykernel_17440\\3624791867.py:11: SettingWithCopyWarning: \n",
      "A value is trying to be set on a copy of a slice from a DataFrame.\n",
      "Try using .loc[row_indexer,col_indexer] = value instead\n",
      "\n",
      "See the caveats in the documentation: https://pandas.pydata.org/pandas-docs/stable/user_guide/indexing.html#returning-a-view-versus-a-copy\n",
      "  pre_feature[\"normalized_prop_starrating_per_srch_id\"] = (pre_feature[\"prop_starrating\"] - mean_srch_prop_starrating) / std_srch_prop_starrating\n",
      "C:\\Users\\bruce\\AppData\\Local\\Temp\\ipykernel_17440\\3624791867.py:15: SettingWithCopyWarning: \n",
      "A value is trying to be set on a copy of a slice from a DataFrame.\n",
      "Try using .loc[row_indexer,col_indexer] = value instead\n",
      "\n",
      "See the caveats in the documentation: https://pandas.pydata.org/pandas-docs/stable/user_guide/indexing.html#returning-a-view-versus-a-copy\n",
      "  pre_feature[\"normalized_prop_location_score2_per_srch_id\"] = (pre_feature[\"prop_location_score2\"] - mean_srch_prop_location_score2) / std_srch_prop_location_score2\n",
      "C:\\Users\\bruce\\AppData\\Local\\Temp\\ipykernel_17440\\3624791867.py:19: SettingWithCopyWarning: \n",
      "A value is trying to be set on a copy of a slice from a DataFrame.\n",
      "Try using .loc[row_indexer,col_indexer] = value instead\n",
      "\n",
      "See the caveats in the documentation: https://pandas.pydata.org/pandas-docs/stable/user_guide/indexing.html#returning-a-view-versus-a-copy\n",
      "  pre_feature[\"normalized_prop_location_score1_per_srch_id\"] = (pre_feature[\"prop_location_score1\"] - mean_srch_prop_location_score1) / std_srch_prop_location_score1\n",
      "C:\\Users\\bruce\\AppData\\Local\\Temp\\ipykernel_17440\\3624791867.py:23: SettingWithCopyWarning: \n",
      "A value is trying to be set on a copy of a slice from a DataFrame.\n",
      "Try using .loc[row_indexer,col_indexer] = value instead\n",
      "\n",
      "See the caveats in the documentation: https://pandas.pydata.org/pandas-docs/stable/user_guide/indexing.html#returning-a-view-versus-a-copy\n",
      "  pre_feature[\"normalized_prop_review_score_per_srch_id\"] = (pre_feature[\"prop_review_score\"] - mean_srch_prop_review_score) / std_srch_prop_review_score\n"
     ]
    }
   ],
   "source": [
    "mean_prop_usd = pre_feature.groupby(\"prop_id\")[\"price_usd\"].transform(\"mean\")\n",
    "std_prop_usd = pre_feature.groupby(\"prop_id\")[\"price_usd\"].transform(\"std\")\n",
    "pre_feature[\"normalized_price_usd_per_prop_id\"] = (pre_feature[\"price_usd\"] - mean_prop_usd) / std_prop_usd\n",
    "\n",
    "mean_srch_usd = pre_feature.groupby(\"srch_id\")[\"price_usd\"].transform(\"mean\")\n",
    "std_srch_usd = pre_feature.groupby(\"srch_id\")[\"price_usd\"].transform(\"std\")\n",
    "pre_feature[\"normalized_price_usd_per_srch_id\"] = (pre_feature[\"price_usd\"] - mean_srch_usd) / std_srch_usd\n",
    "\n",
    "mean_srch_prop_starrating = pre_feature.groupby(\"srch_id\")[\"prop_starrating\"].transform(\"mean\")\n",
    "std_srch_prop_starrating = pre_feature.groupby(\"srch_id\")[\"prop_starrating\"].transform(\"std\")\n",
    "pre_feature[\"normalized_prop_starrating_per_srch_id\"] = (pre_feature[\"prop_starrating\"] - mean_srch_prop_starrating) / std_srch_prop_starrating\n",
    "\n",
    "mean_srch_prop_location_score2 = pre_feature.groupby(\"srch_id\")[\"prop_location_score2\"].transform(\"mean\")\n",
    "std_srch_prop_location_score2 = pre_feature.groupby(\"srch_id\")[\"prop_location_score2\"].transform(\"std\")\n",
    "pre_feature[\"normalized_prop_location_score2_per_srch_id\"] = (pre_feature[\"prop_location_score2\"] - mean_srch_prop_location_score2) / std_srch_prop_location_score2\n",
    "\n",
    "mean_srch_prop_location_score1 = pre_feature.groupby(\"srch_id\")[\"prop_location_score1\"].transform(\"mean\")\n",
    "std_srch_prop_location_score1 = pre_feature.groupby(\"srch_id\")[\"prop_location_score1\"].transform(\"std\")\n",
    "pre_feature[\"normalized_prop_location_score1_per_srch_id\"] = (pre_feature[\"prop_location_score1\"] - mean_srch_prop_location_score1) / std_srch_prop_location_score1\n",
    "\n",
    "mean_srch_prop_review_score = pre_feature.groupby(\"srch_id\")[\"prop_review_score\"].transform(\"mean\")\n",
    "std_srch_prop_review_score = pre_feature.groupby(\"srch_id\")[\"prop_review_score\"].transform(\"std\")\n",
    "pre_feature[\"normalized_prop_review_score_per_srch_id\"] = (pre_feature[\"prop_review_score\"] - mean_srch_prop_review_score) / std_srch_prop_review_score\n"
   ]
  },
  {
   "cell_type": "code",
   "execution_count": 6,
   "metadata": {},
   "outputs": [],
   "source": [
    "cleaned_train = pre_feature.copy()"
   ]
  },
  {
   "cell_type": "code",
   "execution_count": 7,
   "metadata": {},
   "outputs": [],
   "source": [
    "# Training data split with feature creation (need to check)\n",
    "\n",
    "#x1, x2, y1, y2 = train_test_split(cleaned_train, y, test_size=0.2, random_state=42)\n",
    "train_size = int(0.8 * len(cleaned_train))\n",
    "x1 = cleaned_train.iloc[:train_size]\n",
    "x2 = cleaned_train.iloc[train_size:]\n",
    "y1 = y[:train_size]\n",
    "y2 = y[train_size:]\n",
    "srch_id_dest_id_dict = x1.loc[x1[\"random_bool\"] == 0]\n",
    "\n",
    "# estimated position calculation\n",
    "srch_id_dest_id_dict = x1.loc[x1[\"random_bool\"] == 0]\n",
    "srch_id_dest_id_dict = x1.groupby([\"srch_destination_id\", \"prop_id\"]).agg(\n",
    "    {\"position\": \"mean\"}\n",
    ")\n",
    "srch_id_dest_id_dict = srch_id_dest_id_dict.rename(\n",
    "    index=str, columns={\"position\": \"estimated_position\"}\n",
    ").reset_index()\n",
    "srch_id_dest_id_dict[\"srch_destination_id\"] = (\n",
    "    srch_id_dest_id_dict[\"srch_destination_id\"].astype(str).astype(int)\n",
    ")\n",
    "srch_id_dest_id_dict[\"prop_id\"] = (\n",
    "    srch_id_dest_id_dict[\"prop_id\"].astype(str).astype(int)\n",
    ")\n",
    "srch_id_dest_id_dict[\"estimated_position\"] = (\n",
    "    1 / srch_id_dest_id_dict[\"estimated_position\"]\n",
    ")\n",
    "\n",
    "x1 = x1.merge(srch_id_dest_id_dict, how=\"left\", on=[\"srch_destination_id\", \"prop_id\"])\n",
    "x2 = x2.merge(srch_id_dest_id_dict, how=\"left\", on=[\"srch_destination_id\", \"prop_id\"])\n",
    "\n",
    "groups = x1[\"srch_id\"].value_counts(sort=False).sort_index()\n",
    "eval_groups = x2[\"srch_id\"].value_counts(sort=False).sort_index()\n",
    "\n",
    "x1.drop(labels=[\"srch_id\", \"prop_id\", \"position\", \"random_bool\"], axis=1, inplace=True)\n",
    "x2.drop(labels=[\"srch_id\", \"prop_id\", \"position\", \"random_bool\"], axis=1, inplace=True)"
   ]
  },
  {
   "cell_type": "code",
   "execution_count": 8,
   "metadata": {},
   "outputs": [],
   "source": [
    "# feature creation for LambdaMart to handle categorical variables\n",
    "\n",
    "categorical_features = [\n",
    "        \"day\",\n",
    "        \"month\",\n",
    "        \"prop_country_id\",\n",
    "        \"site_id\",\n",
    "        \"visitor_location_country_id\",\n",
    "    ]\n",
    "categorical_features = [c for c in categorical_features if c in x1.columns.values]\n",
    "categorical_features_numbers = [x1.columns.get_loc(x) for x in categorical_features]"
   ]
  },
  {
   "cell_type": "code",
   "execution_count": 9,
   "metadata": {},
   "outputs": [
    {
     "name": "stderr",
     "output_type": "stream",
     "text": [
      "c:\\Users\\bruce\\anaconda3\\envs\\troll\\lib\\site-packages\\lightgbm\\sklearn.py:736: UserWarning: 'verbose' argument is deprecated and will be removed in a future release of LightGBM. Pass 'log_evaluation()' callback via 'callbacks' argument instead.\n",
      "  _log_warning(\"'verbose' argument is deprecated and will be removed in a future release of LightGBM. \"\n",
      "c:\\Users\\bruce\\anaconda3\\envs\\troll\\lib\\site-packages\\lightgbm\\basic.py:2065: UserWarning: Using categorical_feature in Dataset.\n",
      "  _log_warning('Using categorical_feature in Dataset.')\n",
      "c:\\Users\\bruce\\anaconda3\\envs\\troll\\lib\\site-packages\\lightgbm\\basic.py:2068: UserWarning: categorical_feature in Dataset is overridden.\n",
      "New categorical_feature is [11, 12, 17, 23, 34]\n",
      "  _log_warning('categorical_feature in Dataset is overridden.\\n'\n"
     ]
    },
    {
     "name": "stdout",
     "output_type": "stream",
     "text": [
      "[LightGBM] [Warning] Unknown parameter: max_position\n",
      "[LightGBM] [Warning] boosting is set=dart, boosting_type=gbdt will be ignored. Current value: boosting=dart\n"
     ]
    },
    {
     "name": "stderr",
     "output_type": "stream",
     "text": [
      "c:\\Users\\bruce\\anaconda3\\envs\\troll\\lib\\site-packages\\lightgbm\\basic.py:1780: UserWarning: Overriding the parameters from Reference Dataset.\n",
      "  _log_warning('Overriding the parameters from Reference Dataset.')\n",
      "c:\\Users\\bruce\\anaconda3\\envs\\troll\\lib\\site-packages\\lightgbm\\basic.py:1513: UserWarning: categorical_column in param dict is overridden.\n",
      "  _log_warning(f'{cat_alias} in param dict is overridden.')\n"
     ]
    },
    {
     "name": "stdout",
     "output_type": "stream",
     "text": [
      "[200]\ttraining's ndcg@5: 0.413153\tvalid_1's ndcg@5: 0.390267\n",
      "[400]\ttraining's ndcg@5: 0.426647\tvalid_1's ndcg@5: 0.395136\n",
      "[600]\ttraining's ndcg@5: 0.437198\tvalid_1's ndcg@5: 0.397335\n",
      "[800]\ttraining's ndcg@5: 0.448312\tvalid_1's ndcg@5: 0.398567\n",
      "[1000]\ttraining's ndcg@5: 0.457716\tvalid_1's ndcg@5: 0.399832\n",
      "[1200]\ttraining's ndcg@5: 0.467834\tvalid_1's ndcg@5: 0.399481\n",
      "[1400]\ttraining's ndcg@5: 0.477055\tvalid_1's ndcg@5: 0.401006\n",
      "[1600]\ttraining's ndcg@5: 0.48436\tvalid_1's ndcg@5: 0.400477\n",
      "[1800]\ttraining's ndcg@5: 0.4922\tvalid_1's ndcg@5: 0.401091\n",
      "[2000]\ttraining's ndcg@5: 0.498346\tvalid_1's ndcg@5: 0.400853\n"
     ]
    },
    {
     "data": {
      "text/html": [
       "<style>#sk-container-id-1 {color: black;background-color: white;}#sk-container-id-1 pre{padding: 0;}#sk-container-id-1 div.sk-toggleable {background-color: white;}#sk-container-id-1 label.sk-toggleable__label {cursor: pointer;display: block;width: 100%;margin-bottom: 0;padding: 0.3em;box-sizing: border-box;text-align: center;}#sk-container-id-1 label.sk-toggleable__label-arrow:before {content: \"▸\";float: left;margin-right: 0.25em;color: #696969;}#sk-container-id-1 label.sk-toggleable__label-arrow:hover:before {color: black;}#sk-container-id-1 div.sk-estimator:hover label.sk-toggleable__label-arrow:before {color: black;}#sk-container-id-1 div.sk-toggleable__content {max-height: 0;max-width: 0;overflow: hidden;text-align: left;background-color: #f0f8ff;}#sk-container-id-1 div.sk-toggleable__content pre {margin: 0.2em;color: black;border-radius: 0.25em;background-color: #f0f8ff;}#sk-container-id-1 input.sk-toggleable__control:checked~div.sk-toggleable__content {max-height: 200px;max-width: 100%;overflow: auto;}#sk-container-id-1 input.sk-toggleable__control:checked~label.sk-toggleable__label-arrow:before {content: \"▾\";}#sk-container-id-1 div.sk-estimator input.sk-toggleable__control:checked~label.sk-toggleable__label {background-color: #d4ebff;}#sk-container-id-1 div.sk-label input.sk-toggleable__control:checked~label.sk-toggleable__label {background-color: #d4ebff;}#sk-container-id-1 input.sk-hidden--visually {border: 0;clip: rect(1px 1px 1px 1px);clip: rect(1px, 1px, 1px, 1px);height: 1px;margin: -1px;overflow: hidden;padding: 0;position: absolute;width: 1px;}#sk-container-id-1 div.sk-estimator {font-family: monospace;background-color: #f0f8ff;border: 1px dotted black;border-radius: 0.25em;box-sizing: border-box;margin-bottom: 0.5em;}#sk-container-id-1 div.sk-estimator:hover {background-color: #d4ebff;}#sk-container-id-1 div.sk-parallel-item::after {content: \"\";width: 100%;border-bottom: 1px solid gray;flex-grow: 1;}#sk-container-id-1 div.sk-label:hover label.sk-toggleable__label {background-color: #d4ebff;}#sk-container-id-1 div.sk-serial::before {content: \"\";position: absolute;border-left: 1px solid gray;box-sizing: border-box;top: 0;bottom: 0;left: 50%;z-index: 0;}#sk-container-id-1 div.sk-serial {display: flex;flex-direction: column;align-items: center;background-color: white;padding-right: 0.2em;padding-left: 0.2em;position: relative;}#sk-container-id-1 div.sk-item {position: relative;z-index: 1;}#sk-container-id-1 div.sk-parallel {display: flex;align-items: stretch;justify-content: center;background-color: white;position: relative;}#sk-container-id-1 div.sk-item::before, #sk-container-id-1 div.sk-parallel-item::before {content: \"\";position: absolute;border-left: 1px solid gray;box-sizing: border-box;top: 0;bottom: 0;left: 50%;z-index: -1;}#sk-container-id-1 div.sk-parallel-item {display: flex;flex-direction: column;z-index: 1;position: relative;background-color: white;}#sk-container-id-1 div.sk-parallel-item:first-child::after {align-self: flex-end;width: 50%;}#sk-container-id-1 div.sk-parallel-item:last-child::after {align-self: flex-start;width: 50%;}#sk-container-id-1 div.sk-parallel-item:only-child::after {width: 0;}#sk-container-id-1 div.sk-dashed-wrapped {border: 1px dashed gray;margin: 0 0.4em 0.5em 0.4em;box-sizing: border-box;padding-bottom: 0.4em;background-color: white;}#sk-container-id-1 div.sk-label label {font-family: monospace;font-weight: bold;display: inline-block;line-height: 1.2em;}#sk-container-id-1 div.sk-label-container {text-align: center;}#sk-container-id-1 div.sk-container {/* jupyter's `normalize.less` sets `[hidden] { display: none; }` but bootstrap.min.css set `[hidden] { display: none !important; }` so we also need the `!important` here to be able to override the default hidden behavior on the sphinx rendered scikit-learn.org. See: https://github.com/scikit-learn/scikit-learn/issues/21755 */display: inline-block !important;position: relative;}#sk-container-id-1 div.sk-text-repr-fallback {display: none;}</style><div id=\"sk-container-id-1\" class=\"sk-top-container\"><div class=\"sk-text-repr-fallback\"><pre>LGBMRanker(boosting=&#x27;dart&#x27;, label_gain=[0, 1, 5], max_position=5, metric=&#x27;ndcg&#x27;,\n",
       "           n_estimators=2000, objective=&#x27;lambdarank&#x27;, seed=70)</pre><b>In a Jupyter environment, please rerun this cell to show the HTML representation or trust the notebook. <br />On GitHub, the HTML representation is unable to render, please try loading this page with nbviewer.org.</b></div><div class=\"sk-container\" hidden><div class=\"sk-item\"><div class=\"sk-estimator sk-toggleable\"><input class=\"sk-toggleable__control sk-hidden--visually\" id=\"sk-estimator-id-1\" type=\"checkbox\" checked><label for=\"sk-estimator-id-1\" class=\"sk-toggleable__label sk-toggleable__label-arrow\">LGBMRanker</label><div class=\"sk-toggleable__content\"><pre>LGBMRanker(boosting=&#x27;dart&#x27;, label_gain=[0, 1, 5], max_position=5, metric=&#x27;ndcg&#x27;,\n",
       "           n_estimators=2000, objective=&#x27;lambdarank&#x27;, seed=70)</pre></div></div></div></div></div>"
      ],
      "text/plain": [
       "LGBMRanker(boosting='dart', label_gain=[0, 1, 5], max_position=5, metric='ndcg',\n",
       "           n_estimators=2000, objective='lambdarank', seed=70)"
      ]
     },
     "execution_count": 9,
     "metadata": {},
     "output_type": "execute_result"
    }
   ],
   "source": [
    "clf = lightgbm.LGBMRanker(\n",
    "        objective=\"lambdarank\",\n",
    "        metric=\"ndcg\",\n",
    "        n_estimators=2000,\n",
    "        learning_rate=0.1,\n",
    "        max_position=5,\n",
    "        label_gain=[0, 1, 5],\n",
    "        seed=70,\n",
    "        boosting=\"dart\",\n",
    "    )\n",
    "\n",
    "clf.fit(\n",
    "        x1,\n",
    "        y1,\n",
    "        eval_set=[(x1, y1), (x2, y2)],\n",
    "        eval_group=[groups, eval_groups],\n",
    "        group=groups,\n",
    "        eval_at=5,\n",
    "        verbose=200,    \n",
    "        categorical_feature=categorical_features_numbers,\n",
    "    )"
   ]
  },
  {
   "cell_type": "code",
   "execution_count": 10,
   "metadata": {},
   "outputs": [],
   "source": [
    "test_csv = pd.read_csv('C:/Users/bruce/Desktop/DMT_Assignment2/test_set_VU_DM.csv')"
   ]
  },
  {
   "cell_type": "code",
   "execution_count": 11,
   "metadata": {},
   "outputs": [],
   "source": [
    "# Test data cleaning \n",
    "test_csv[\"date_time\"] = pd.to_datetime(test_csv[\"date_time\"])\n",
    "test_csv[\"day\"] = test_csv[\"date_time\"].dt.day\n",
    "test_csv[\"month\"] = test_csv[\"date_time\"].dt.month\n",
    "test_csv.drop(labels=[\"date_time\"], axis=1, inplace=True)\n",
    "ignore_columns_test = [\"visitor_hist_adr_usd\", \"visitor_hist_starrating\", \"srch_query_affinity_score\"]\n",
    "missing_perc_test = test_csv.isnull().mean() * 100\n",
    "keep_cols_test = missing_perc_test[missing_perc_test <= 90]  \n",
    "keep_cols_test = keep_cols_test.index.union(ignore_columns_test)  \n",
    "pre_feature_test = test_csv[keep_cols_test]"
   ]
  },
  {
   "cell_type": "code",
   "execution_count": 12,
   "metadata": {},
   "outputs": [
    {
     "name": "stderr",
     "output_type": "stream",
     "text": [
      "C:\\Users\\bruce\\AppData\\Local\\Temp\\ipykernel_17440\\572512566.py:15: SettingWithCopyWarning: \n",
      "A value is trying to be set on a copy of a slice from a DataFrame.\n",
      "Try using .loc[row_indexer,col_indexer] = value instead\n",
      "\n",
      "See the caveats in the documentation: https://pandas.pydata.org/pandas-docs/stable/user_guide/indexing.html#returning-a-view-versus-a-copy\n",
      "  pre_feature_test[competitor_columns] = pre_feature_test[competitor_columns].fillna(0)\n",
      "C:\\Users\\bruce\\AppData\\Local\\Temp\\ipykernel_17440\\572512566.py:16: SettingWithCopyWarning: \n",
      "A value is trying to be set on a copy of a slice from a DataFrame\n",
      "\n",
      "See the caveats in the documentation: https://pandas.pydata.org/pandas-docs/stable/user_guide/indexing.html#returning-a-view-versus-a-copy\n",
      "  pre_feature_test[\"prop_location_score2\"].fillna(pre_feature_test[\"prop_location_score2\"].min(), inplace=True)\n",
      "C:\\Users\\bruce\\AppData\\Local\\Temp\\ipykernel_17440\\572512566.py:17: SettingWithCopyWarning: \n",
      "A value is trying to be set on a copy of a slice from a DataFrame\n",
      "\n",
      "See the caveats in the documentation: https://pandas.pydata.org/pandas-docs/stable/user_guide/indexing.html#returning-a-view-versus-a-copy\n",
      "  pre_feature_test[\"prop_review_score\"].fillna(pre_feature_test[\"prop_review_score\"].min(), inplace=True)\n"
     ]
    }
   ],
   "source": [
    "competitor_columns = [\n",
    "    \"comp2_inv\",\n",
    "    \"comp2_rate\",\n",
    "    \"comp2_rate_percent_diff\",\n",
    "    \"comp3_inv\",\n",
    "    \"comp3_rate\",\n",
    "    \"comp5_inv\",\n",
    "    \"comp5_rate\",\n",
    "    \"comp5_rate_percent_diff\",\n",
    "    \"comp8_inv\",\n",
    "    \"comp8_rate\",\n",
    "    \"comp8_rate_percent_diff\",\n",
    "]\n",
    "\n",
    "pre_feature_test[competitor_columns] = pre_feature_test[competitor_columns].fillna(0)\n",
    "pre_feature_test[\"prop_location_score2\"].fillna(pre_feature_test[\"prop_location_score2\"].min(), inplace=True)\n",
    "pre_feature_test[\"prop_review_score\"].fillna(pre_feature_test[\"prop_review_score\"].min(), inplace=True)"
   ]
  },
  {
   "cell_type": "code",
   "execution_count": 13,
   "metadata": {},
   "outputs": [
    {
     "name": "stderr",
     "output_type": "stream",
     "text": [
      "C:\\Users\\bruce\\AppData\\Local\\Temp\\ipykernel_17440\\3132412966.py:3: SettingWithCopyWarning: \n",
      "A value is trying to be set on a copy of a slice from a DataFrame.\n",
      "Try using .loc[row_indexer,col_indexer] = value instead\n",
      "\n",
      "See the caveats in the documentation: https://pandas.pydata.org/pandas-docs/stable/user_guide/indexing.html#returning-a-view-versus-a-copy\n",
      "  pre_feature_test[\"normalized_price_usd_per_prop_id\"] = (pre_feature_test[\"price_usd\"] - mean_prop_usd) / std_prop_usd\n",
      "C:\\Users\\bruce\\AppData\\Local\\Temp\\ipykernel_17440\\3132412966.py:7: SettingWithCopyWarning: \n",
      "A value is trying to be set on a copy of a slice from a DataFrame.\n",
      "Try using .loc[row_indexer,col_indexer] = value instead\n",
      "\n",
      "See the caveats in the documentation: https://pandas.pydata.org/pandas-docs/stable/user_guide/indexing.html#returning-a-view-versus-a-copy\n",
      "  pre_feature_test[\"normalized_price_usd_per_srch_id\"] = (pre_feature_test[\"price_usd\"] - mean_srch_usd) / std_srch_usd\n",
      "C:\\Users\\bruce\\AppData\\Local\\Temp\\ipykernel_17440\\3132412966.py:11: SettingWithCopyWarning: \n",
      "A value is trying to be set on a copy of a slice from a DataFrame.\n",
      "Try using .loc[row_indexer,col_indexer] = value instead\n",
      "\n",
      "See the caveats in the documentation: https://pandas.pydata.org/pandas-docs/stable/user_guide/indexing.html#returning-a-view-versus-a-copy\n",
      "  pre_feature_test[\"normalized_prop_starrating_per_srch_id\"] = (pre_feature_test[\"prop_starrating\"] - mean_srch_prop_starrating) / std_srch_prop_starrating\n",
      "C:\\Users\\bruce\\AppData\\Local\\Temp\\ipykernel_17440\\3132412966.py:15: SettingWithCopyWarning: \n",
      "A value is trying to be set on a copy of a slice from a DataFrame.\n",
      "Try using .loc[row_indexer,col_indexer] = value instead\n",
      "\n",
      "See the caveats in the documentation: https://pandas.pydata.org/pandas-docs/stable/user_guide/indexing.html#returning-a-view-versus-a-copy\n",
      "  pre_feature_test[\"normalized_prop_location_score2_per_srch_id\"] = (pre_feature_test[\"prop_location_score2\"] - mean_srch_prop_location_score2) / std_srch_prop_location_score2\n",
      "C:\\Users\\bruce\\AppData\\Local\\Temp\\ipykernel_17440\\3132412966.py:19: SettingWithCopyWarning: \n",
      "A value is trying to be set on a copy of a slice from a DataFrame.\n",
      "Try using .loc[row_indexer,col_indexer] = value instead\n",
      "\n",
      "See the caveats in the documentation: https://pandas.pydata.org/pandas-docs/stable/user_guide/indexing.html#returning-a-view-versus-a-copy\n",
      "  pre_feature_test[\"normalized_prop_location_score1_per_srch_id\"] = (pre_feature_test[\"prop_location_score1\"] - mean_srch_prop_location_score1) / std_srch_prop_location_score1\n",
      "C:\\Users\\bruce\\AppData\\Local\\Temp\\ipykernel_17440\\3132412966.py:23: SettingWithCopyWarning: \n",
      "A value is trying to be set on a copy of a slice from a DataFrame.\n",
      "Try using .loc[row_indexer,col_indexer] = value instead\n",
      "\n",
      "See the caveats in the documentation: https://pandas.pydata.org/pandas-docs/stable/user_guide/indexing.html#returning-a-view-versus-a-copy\n",
      "  pre_feature_test[\"normalized_prop_review_score_per_srch_id\"] = (pre_feature_test[\"prop_review_score\"] - mean_srch_prop_review_score) / std_srch_prop_review_score\n"
     ]
    }
   ],
   "source": [
    "mean_prop_usd = pre_feature_test.groupby(\"prop_id\")[\"price_usd\"].transform(\"mean\")\n",
    "std_prop_usd = pre_feature_test.groupby(\"prop_id\")[\"price_usd\"].transform(\"std\")\n",
    "pre_feature_test[\"normalized_price_usd_per_prop_id\"] = (pre_feature_test[\"price_usd\"] - mean_prop_usd) / std_prop_usd\n",
    "\n",
    "mean_srch_usd = pre_feature_test.groupby(\"srch_id\")[\"price_usd\"].transform(\"mean\")\n",
    "std_srch_usd = pre_feature_test.groupby(\"srch_id\")[\"price_usd\"].transform(\"std\")\n",
    "pre_feature_test[\"normalized_price_usd_per_srch_id\"] = (pre_feature_test[\"price_usd\"] - mean_srch_usd) / std_srch_usd\n",
    "\n",
    "mean_srch_prop_starrating = pre_feature_test.groupby(\"srch_id\")[\"prop_starrating\"].transform(\"mean\")\n",
    "std_srch_prop_starrating = pre_feature_test.groupby(\"srch_id\")[\"prop_starrating\"].transform(\"std\")\n",
    "pre_feature_test[\"normalized_prop_starrating_per_srch_id\"] = (pre_feature_test[\"prop_starrating\"] - mean_srch_prop_starrating) / std_srch_prop_starrating\n",
    "\n",
    "mean_srch_prop_location_score2 = pre_feature_test.groupby(\"srch_id\")[\"prop_location_score2\"].transform(\"mean\")\n",
    "std_srch_prop_location_score2 = pre_feature_test.groupby(\"srch_id\")[\"prop_location_score2\"].transform(\"std\")\n",
    "pre_feature_test[\"normalized_prop_location_score2_per_srch_id\"] = (pre_feature_test[\"prop_location_score2\"] - mean_srch_prop_location_score2) / std_srch_prop_location_score2\n",
    "\n",
    "mean_srch_prop_location_score1 = pre_feature_test.groupby(\"srch_id\")[\"prop_location_score1\"].transform(\"mean\")\n",
    "std_srch_prop_location_score1 = pre_feature_test.groupby(\"srch_id\")[\"prop_location_score1\"].transform(\"std\")\n",
    "pre_feature_test[\"normalized_prop_location_score1_per_srch_id\"] = (pre_feature_test[\"prop_location_score1\"] - mean_srch_prop_location_score1) / std_srch_prop_location_score1\n",
    "\n",
    "mean_srch_prop_review_score = pre_feature_test.groupby(\"srch_id\")[\"prop_review_score\"].transform(\"mean\")\n",
    "std_srch_prop_review_score = pre_feature_test.groupby(\"srch_id\")[\"prop_review_score\"].transform(\"std\")\n",
    "pre_feature_test[\"normalized_prop_review_score_per_srch_id\"] = (pre_feature_test[\"prop_review_score\"] - mean_srch_prop_review_score) / std_srch_prop_review_score\n"
   ]
  },
  {
   "cell_type": "code",
   "execution_count": 14,
   "metadata": {},
   "outputs": [],
   "source": [
    "cleaned_test = pre_feature_test.copy()"
   ]
  },
  {
   "cell_type": "code",
   "execution_count": 15,
   "metadata": {},
   "outputs": [],
   "source": [
    "cleaned_test = cleaned_test.merge(srch_id_dest_id_dict, how=\"left\", on=[\"srch_destination_id\", \"prop_id\"])\n",
    "test_data_srch_id_prop_id = cleaned_test[[\"srch_id\", \"prop_id\"]]\n",
    "cleaned_test.drop(labels=[\"srch_id\", \"prop_id\", \"random_bool\"], axis=1, inplace=True)\n",
    "\n",
    "categorical_features_test = [\n",
    "        \"day\",\n",
    "        \"month\",\n",
    "        \"prop_country_id\",\n",
    "        \"site_id\",\n",
    "        \"visitor_location_country_id\",\n",
    "    ]\n",
    "categorical_features_test = [c for c in categorical_features_test if c in cleaned_test.columns.values]\n",
    "categorical_features_test_numbers = [x1.columns.get_loc(x) for x in categorical_features_test]\n"
   ]
  },
  {
   "cell_type": "code",
   "execution_count": 16,
   "metadata": {},
   "outputs": [
    {
     "name": "stderr",
     "output_type": "stream",
     "text": [
      "C:\\Users\\bruce\\AppData\\Local\\Temp\\ipykernel_17440\\2191333886.py:2: SettingWithCopyWarning: \n",
      "A value is trying to be set on a copy of a slice from a DataFrame.\n",
      "Try using .loc[row_indexer,col_indexer] = value instead\n",
      "\n",
      "See the caveats in the documentation: https://pandas.pydata.org/pandas-docs/stable/user_guide/indexing.html#returning-a-view-versus-a-copy\n",
      "  test_data_srch_id_prop_id[\"prediction\"] = predictions\n"
     ]
    }
   ],
   "source": [
    "predictions = clf.predict(cleaned_test, categorical_feature=categorical_features_numbers)\n",
    "test_data_srch_id_prop_id[\"prediction\"] = predictions\n",
    "test_data_srch_id_prop_id = test_data_srch_id_prop_id.sort_values(\n",
    "        [\"srch_id\", \"prediction\"], ascending=False\n",
    "    )\n",
    "\n",
    "test_data_srch_id_prop_id[[\"srch_id\", \"prop_id\"]].to_csv('submission.csv',index=False)"
   ]
  }
 ],
 "metadata": {
  "kernelspec": {
   "display_name": "troll",
   "language": "python",
   "name": "python3"
  },
  "language_info": {
   "codemirror_mode": {
    "name": "ipython",
    "version": 3
   },
   "file_extension": ".py",
   "mimetype": "text/x-python",
   "name": "python",
   "nbconvert_exporter": "python",
   "pygments_lexer": "ipython3",
   "version": "3.10.0"
  },
  "orig_nbformat": 4
 },
 "nbformat": 4,
 "nbformat_minor": 2
}
