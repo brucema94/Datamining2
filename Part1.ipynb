{
 "cells": [
  {
   "cell_type": "code",
   "execution_count": 1,
   "metadata": {},
   "outputs": [],
   "source": [
    "import pandas as pd\n",
    "import numpy as np\n",
    "import matplotlib.pyplot as plt\n",
    "import random"
   ]
  },
  {
   "cell_type": "code",
   "execution_count": 2,
   "metadata": {},
   "outputs": [],
   "source": [
    "df = pd.read_csv('training_set_VU_DM.csv')"
   ]
  },
  {
   "cell_type": "code",
   "execution_count": 6,
   "metadata": {},
   "outputs": [],
   "source": [
    "random_indices = random.sample(range(len(df)), 10000)\n",
    "random_subset = df.iloc[random_indices]"
   ]
  },
  {
   "cell_type": "code",
   "execution_count": 9,
   "metadata": {},
   "outputs": [],
   "source": [
    "random_subset.to_csv('random_subset.csv', index=False)"
   ]
  },
  {
   "cell_type": "code",
   "execution_count": 15,
   "metadata": {},
   "outputs": [
    {
     "name": "stdout",
     "output_type": "stream",
     "text": [
      "                             Missing Values  Existing Values\n",
      "srch_id                                   0          4958347\n",
      "date_time                                 0          4958347\n",
      "site_id                                   0          4958347\n",
      "visitor_location_country_id               0          4958347\n",
      "visitor_hist_starrating             4706481           251866\n",
      "visitor_hist_adr_usd                4705359           252988\n",
      "prop_country_id                           0          4958347\n",
      "prop_id                                   0          4958347\n",
      "prop_starrating                           0          4958347\n",
      "prop_review_score                      7364          4950983\n",
      "prop_brand_bool                           0          4958347\n",
      "prop_location_score1                      0          4958347\n",
      "prop_location_score2                1090348          3867999\n",
      "prop_log_historical_price                 0          4958347\n",
      "position                                  0          4958347\n",
      "price_usd                                 0          4958347\n",
      "promotion_flag                            0          4958347\n",
      "srch_destination_id                       0          4958347\n",
      "srch_length_of_stay                       0          4958347\n",
      "srch_booking_window                       0          4958347\n",
      "srch_adults_count                         0          4958347\n",
      "srch_children_count                       0          4958347\n",
      "srch_room_count                           0          4958347\n",
      "srch_saturday_night_bool                  0          4958347\n",
      "srch_query_affinity_score           4640941           317406\n",
      "orig_destination_distance           1607782          3350565\n",
      "random_bool                               0          4958347\n",
      "comp1_rate                          4838417           119930\n",
      "comp1_inv                           4828788           129559\n",
      "comp1_rate_percent_diff             4863908            94439\n",
      "comp2_rate                          2933675          2024672\n",
      "comp2_inv                           2828078          2130269\n",
      "comp2_rate_percent_diff             4402109           556238\n",
      "comp3_rate                          3424059          1534288\n",
      "comp3_inv                           3307357          1650990\n",
      "comp3_rate_percent_diff             4485550           472797\n",
      "comp4_rate                          4650969           307378\n",
      "comp4_inv                           4614684           343663\n",
      "comp4_rate_percent_diff             4827261           131086\n",
      "comp5_rate                          2735974          2222373\n",
      "comp5_inv                           2598327          2360020\n",
      "comp5_rate_percent_diff             4117248           841099\n",
      "comp6_rate                          4718190           240157\n",
      "comp6_inv                           4697371           260976\n",
      "comp6_rate_percent_diff             4862173            96174\n",
      "comp7_rate                          4642999           315348\n",
      "comp7_inv                           4601925           356422\n",
      "comp7_rate_percent_diff             4819832           138515\n",
      "comp8_rate                          3041693          1916654\n",
      "comp8_inv                           2970844          1987503\n",
      "comp8_rate_percent_diff             4343617           614730\n",
      "click_bool                                0          4958347\n",
      "gross_bookings_usd                  4819957           138390\n",
      "booking_bool                              0          4958347\n"
     ]
    }
   ],
   "source": [
    "missing_values = df.isna().sum()\n",
    "total_values = df.count()\n",
    "missing_total_values = pd.concat([missing_values, total_values], axis=1, keys=['Missing Values', 'Existing Values'])\n",
    "print(missing_total_values)"
   ]
  },
  {
   "cell_type": "code",
   "execution_count": null,
   "metadata": {},
   "outputs": [],
   "source": [
    "num_clicked = df['click_bool'].sum()\n",
    "num_booked = df['booking_bool'].sum()\n",
    "perc_clicked = num_clicked / len(df) * 100\n",
    "perc_booked = num_booked / len(df) * 100\n",
    "\n",
    "# Print the results\n",
    "print(f\"Percentage of clicks: {perc_clicked:.2f}%\")\n",
    "print(f\"Percentage of bookings: {perc_booked:.2f}%\")"
   ]
  },
  {
   "cell_type": "code",
   "execution_count": 2,
   "metadata": {},
   "outputs": [],
   "source": [
    "sampleset = pd.read_csv('random_subset.csv')"
   ]
  },
  {
   "cell_type": "code",
   "execution_count": 3,
   "metadata": {},
   "outputs": [
    {
     "name": "stdout",
     "output_type": "stream",
     "text": [
      "                             Missing Values  Existing Values\n",
      "srch_id                                   0            10000\n",
      "date_time                                 0            10000\n",
      "site_id                                   0            10000\n",
      "visitor_location_country_id               0            10000\n",
      "visitor_hist_starrating                9470              530\n",
      "visitor_hist_adr_usd                   9468              532\n",
      "prop_country_id                           0            10000\n",
      "prop_id                                   0            10000\n",
      "prop_starrating                           0            10000\n",
      "prop_review_score                        20             9980\n",
      "prop_brand_bool                           0            10000\n",
      "prop_location_score1                      0            10000\n",
      "prop_location_score2                   2159             7841\n",
      "prop_log_historical_price                 0            10000\n",
      "position                                  0            10000\n",
      "price_usd                                 0            10000\n",
      "promotion_flag                            0            10000\n",
      "srch_destination_id                       0            10000\n",
      "srch_length_of_stay                       0            10000\n",
      "srch_booking_window                       0            10000\n",
      "srch_adults_count                         0            10000\n",
      "srch_children_count                       0            10000\n",
      "srch_room_count                           0            10000\n",
      "srch_saturday_night_bool                  0            10000\n",
      "srch_query_affinity_score              9335              665\n",
      "orig_destination_distance              3287             6713\n",
      "random_bool                               0            10000\n",
      "comp1_rate                             9774              226\n",
      "comp1_inv                              9763              237\n",
      "comp1_rate_percent_diff                9831              169\n",
      "comp2_rate                             5888             4112\n",
      "comp2_inv                              5694             4306\n",
      "comp2_rate_percent_diff                8871             1129\n",
      "comp3_rate                             6891             3109\n",
      "comp3_inv                              6640             3360\n",
      "comp3_rate_percent_diff                9088              912\n",
      "comp4_rate                             9359              641\n",
      "comp4_inv                              9285              715\n",
      "comp4_rate_percent_diff                9719              281\n",
      "comp5_rate                             5413             4587\n",
      "comp5_inv                              5151             4849\n",
      "comp5_rate_percent_diff                8284             1716\n",
      "comp6_rate                             9501              499\n",
      "comp6_inv                              9455              545\n",
      "comp6_rate_percent_diff                9801              199\n",
      "comp7_rate                             9357              643\n",
      "comp7_inv                              9273              727\n",
      "comp7_rate_percent_diff                9732              268\n",
      "comp8_rate                             6129             3871\n",
      "comp8_inv                              5994             4006\n",
      "comp8_rate_percent_diff                8781             1219\n",
      "click_bool                                0            10000\n",
      "gross_bookings_usd                     9703              297\n",
      "booking_bool                              0            10000\n"
     ]
    }
   ],
   "source": [
    "missing_values = sampleset.isna().sum()\n",
    "total_values = sampleset.count()\n",
    "missing_total_values = pd.concat([missing_values, total_values], axis=1, keys=['Missing Values', 'Existing Values'])\n",
    "print(missing_total_values)"
   ]
  },
  {
   "cell_type": "code",
   "execution_count": 4,
   "metadata": {},
   "outputs": [
    {
     "name": "stdout",
     "output_type": "stream",
     "text": [
      "<class 'pandas.core.frame.DataFrame'>\n",
      "RangeIndex: 10000 entries, 0 to 9999\n",
      "Data columns (total 37 columns):\n",
      " #   Column                       Non-Null Count  Dtype  \n",
      "---  ------                       --------------  -----  \n",
      " 0   srch_id                      10000 non-null  int64  \n",
      " 1   date_time                    10000 non-null  object \n",
      " 2   site_id                      10000 non-null  int64  \n",
      " 3   visitor_location_country_id  10000 non-null  int64  \n",
      " 4   prop_country_id              10000 non-null  int64  \n",
      " 5   prop_id                      10000 non-null  int64  \n",
      " 6   prop_starrating              10000 non-null  int64  \n",
      " 7   prop_review_score            9980 non-null   float64\n",
      " 8   prop_brand_bool              10000 non-null  int64  \n",
      " 9   prop_location_score1         10000 non-null  float64\n",
      " 10  prop_location_score2         7841 non-null   float64\n",
      " 11  prop_log_historical_price    10000 non-null  float64\n",
      " 12  position                     10000 non-null  int64  \n",
      " 13  price_usd                    10000 non-null  float64\n",
      " 14  promotion_flag               10000 non-null  int64  \n",
      " 15  srch_destination_id          10000 non-null  int64  \n",
      " 16  srch_length_of_stay          10000 non-null  int64  \n",
      " 17  srch_booking_window          10000 non-null  int64  \n",
      " 18  srch_adults_count            10000 non-null  int64  \n",
      " 19  srch_children_count          10000 non-null  int64  \n",
      " 20  srch_room_count              10000 non-null  int64  \n",
      " 21  srch_saturday_night_bool     10000 non-null  int64  \n",
      " 22  orig_destination_distance    6713 non-null   float64\n",
      " 23  random_bool                  10000 non-null  int64  \n",
      " 24  comp2_rate                   4112 non-null   float64\n",
      " 25  comp2_inv                    4306 non-null   float64\n",
      " 26  comp2_rate_percent_diff      1129 non-null   float64\n",
      " 27  comp3_rate                   3109 non-null   float64\n",
      " 28  comp3_inv                    3360 non-null   float64\n",
      " 29  comp5_rate                   4587 non-null   float64\n",
      " 30  comp5_inv                    4849 non-null   float64\n",
      " 31  comp5_rate_percent_diff      1716 non-null   float64\n",
      " 32  comp8_rate                   3871 non-null   float64\n",
      " 33  comp8_inv                    4006 non-null   float64\n",
      " 34  comp8_rate_percent_diff      1219 non-null   float64\n",
      " 35  click_bool                   10000 non-null  int64  \n",
      " 36  booking_bool                 10000 non-null  int64  \n",
      "dtypes: float64(17), int64(19), object(1)\n",
      "memory usage: 2.8+ MB\n"
     ]
    }
   ],
   "source": [
    "missing_perc = sampleset.isnull().mean() * 100\n",
    "keep_cols = missing_perc[missing_perc < 90].index\n",
    "sampleset = sampleset[keep_cols]\n",
    "sampleset.info()"
   ]
  },
  {
   "cell_type": "code",
   "execution_count": 5,
   "metadata": {},
   "outputs": [],
   "source": [
    "# drop for now, need to know what to do with this crap later \n",
    "drop_comp = [col for col in sampleset if col.startswith('comp')]\n",
    "sampleset = sampleset.drop(drop_comp, axis=1)"
   ]
  },
  {
   "cell_type": "code",
   "execution_count": 6,
   "metadata": {},
   "outputs": [
    {
     "name": "stdout",
     "output_type": "stream",
     "text": [
      "Index(['prop_review_score', 'prop_location_score2',\n",
      "       'orig_destination_distance'],\n",
      "      dtype='object')\n"
     ]
    }
   ],
   "source": [
    "cols_with_missing = sampleset.columns[sampleset.isnull().any()]\n",
    "print(cols_with_missing)"
   ]
  },
  {
   "cell_type": "code",
   "execution_count": 7,
   "metadata": {},
   "outputs": [],
   "source": [
    "# medium make sense here \n",
    "sampleset[\"prop_review_score\"].fillna(sampleset[\"prop_review_score\"].median(), inplace = True)\n",
    "sampleset[\"orig_destination_distance\"].fillna(sampleset[\"orig_destination_distance\"].median(), inplace = True)\n",
    "\n",
    "# for prop_location_score2, KNN with location_score1? or perhaps quantile with country id? for now just medium \n",
    "sampleset[\"prop_location_score2\"].fillna(sampleset[\"prop_location_score2\"].median(), inplace = True)"
   ]
  },
  {
   "cell_type": "code",
   "execution_count": 8,
   "metadata": {},
   "outputs": [
    {
     "name": "stdout",
     "output_type": "stream",
     "text": [
      "Index([], dtype='object')\n"
     ]
    }
   ],
   "source": [
    "cols_with_missing = sampleset.columns[sampleset.isnull().any()]\n",
    "print(cols_with_missing)"
   ]
  },
  {
   "cell_type": "code",
   "execution_count": 21,
   "metadata": {},
   "outputs": [
    {
     "name": "stdout",
     "output_type": "stream",
     "text": [
      "<class 'pandas.core.frame.DataFrame'>\n",
      "RangeIndex: 10000 entries, 0 to 9999\n",
      "Data columns (total 26 columns):\n",
      " #   Column                       Non-Null Count  Dtype  \n",
      "---  ------                       --------------  -----  \n",
      " 0   srch_id                      10000 non-null  int64  \n",
      " 1   date_time                    10000 non-null  object \n",
      " 2   site_id                      10000 non-null  int64  \n",
      " 3   visitor_location_country_id  10000 non-null  int64  \n",
      " 4   prop_country_id              10000 non-null  int64  \n",
      " 5   prop_id                      10000 non-null  int64  \n",
      " 6   prop_starrating              10000 non-null  int64  \n",
      " 7   prop_review_score            10000 non-null  float64\n",
      " 8   prop_brand_bool              10000 non-null  int64  \n",
      " 9   prop_location_score1         10000 non-null  float64\n",
      " 10  prop_location_score2         10000 non-null  float64\n",
      " 11  prop_log_historical_price    10000 non-null  float64\n",
      " 12  position                     10000 non-null  int64  \n",
      " 13  price_usd                    10000 non-null  float64\n",
      " 14  promotion_flag               10000 non-null  int64  \n",
      " 15  srch_destination_id          10000 non-null  int64  \n",
      " 16  srch_length_of_stay          10000 non-null  int64  \n",
      " 17  srch_booking_window          10000 non-null  int64  \n",
      " 18  srch_adults_count            10000 non-null  int64  \n",
      " 19  srch_children_count          10000 non-null  int64  \n",
      " 20  srch_room_count              10000 non-null  int64  \n",
      " 21  srch_saturday_night_bool     10000 non-null  int64  \n",
      " 22  orig_destination_distance    10000 non-null  float64\n",
      " 23  random_bool                  10000 non-null  int64  \n",
      " 24  click_bool                   10000 non-null  int64  \n",
      " 25  booking_bool                 10000 non-null  int64  \n",
      "dtypes: float64(6), int64(19), object(1)\n",
      "memory usage: 2.0+ MB\n"
     ]
    }
   ],
   "source": [
    "sampleset.info()"
   ]
  },
  {
   "cell_type": "code",
   "execution_count": null,
   "metadata": {},
   "outputs": [],
   "source": [
    "sampleset['012'] = sampleset.apply(lambda row: row['click_bool'] + row['booking_bool'], axis=1)"
   ]
  },
  {
   "cell_type": "code",
   "execution_count": 14,
   "metadata": {},
   "outputs": [],
   "source": [
    "sampleset.to_csv('train_cleaned.csv',index=False)"
   ]
  }
 ],
 "metadata": {
  "kernelspec": {
   "display_name": "troll",
   "language": "python",
   "name": "python3"
  },
  "language_info": {
   "codemirror_mode": {
    "name": "ipython",
    "version": 3
   },
   "file_extension": ".py",
   "mimetype": "text/x-python",
   "name": "python",
   "nbconvert_exporter": "python",
   "pygments_lexer": "ipython3",
   "version": "3.10.0"
  },
  "orig_nbformat": 4
 },
 "nbformat": 4,
 "nbformat_minor": 2
}
